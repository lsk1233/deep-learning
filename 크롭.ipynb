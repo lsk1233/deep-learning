{
  "nbformat": 4,
  "nbformat_minor": 0,
  "metadata": {
    "colab": {
      "provenance": []
    },
    "kernelspec": {
      "name": "python3",
      "display_name": "Python 3"
    },
    "language_info": {
      "name": "python"
    }
  },
  "cells": [
    {
      "cell_type": "code",
      "source": [
        "from google.colab import drive\n",
        "drive.mount('/content/drive')"
      ],
      "metadata": {
        "colab": {
          "base_uri": "https://localhost:8080/"
        },
        "id": "gNYuA3abXYTt",
        "outputId": "23f55342-f695-4fb9-c907-d71ea85fc97a"
      },
      "execution_count": null,
      "outputs": [
        {
          "output_type": "stream",
          "name": "stdout",
          "text": [
            "Drive already mounted at /content/drive; to attempt to forcibly remount, call drive.mount(\"/content/drive\", force_remount=True).\n"
          ]
        }
      ]
    },
    {
      "cell_type": "code",
      "execution_count": null,
      "metadata": {
        "id": "nfa3ZUPxTYY3"
      },
      "outputs": [],
      "source": [
        "import os\n",
        "from PIL import Image\n",
        "\n",
        "def crop_center(input_folder, output_folder, size):\n",
        "    if not os.path.exists(output_folder):\n",
        "        os.makedirs(output_folder)\n",
        "\n",
        "    for filename in os.listdir(input_folder):\n",
        "        if filename.endswith('.jpg') or filename.endswith('.png'):\n",
        "            img = Image.open(os.path.join(input_folder, filename))\n",
        "            width, height = img.size\n",
        "\n",
        "            left = (width - size[0])/2\n",
        "            top = (height - size[1])/2\n",
        "            right = (width + size[0])/2\n",
        "            bottom = (height + size[1])/2\n",
        "\n",
        "            cropped_img = img.crop((left, top, right, bottom))\n",
        "\n",
        "            # 파일 이름 분리\n",
        "            name, ext = os.path.splitext(filename)\n",
        "            # 새로운 이름 생성\n",
        "            new_name = \"c_\" + name + ext\n",
        "\n",
        "            cropped_img.save(os.path.join(output_folder, new_name))\n",
        "\n",
        "crop_center('/content/drive/MyDrive/Colab Notebooks/deep_learning/1280_720/train_image', '/content/drive/MyDrive/Colab Notebooks/deep_learning/crop/image', (512, 512))\n"
      ]
    }
  ]
}